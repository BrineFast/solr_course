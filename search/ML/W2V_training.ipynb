{
 "cells": [
  {
   "cell_type": "code",
   "execution_count": 1,
   "id": "8708e059-ed98-4771-b567-557250a094ed",
   "metadata": {},
   "outputs": [],
   "source": [
    "import nltk\n",
    "import numpy as np\n",
    "import pandas as pd\n",
    "import Levenshtein\n",
    "from scipy import spatial\n",
    "import pyspark.sql.functions as F\n",
    "\n",
    "from pyspark.sql import SparkSession, DataFrame\n",
    "from gensim import utils, corpora, models, similarities"
   ]
  },
  {
   "cell_type": "code",
   "execution_count": null,
   "id": "590f8f3f-947f-45c8-929e-1c7a28637333",
   "metadata": {},
   "outputs": [],
   "source": [
    "stemmer = nltk.SnowballStemmer(\"english\")\n",
    "spark = SparkSession.builder.master(\"local[8]\").appName(\"DSSM_features\").getOrCreate()"
   ]
  },
  {
   "cell_type": "code",
   "execution_count": null,
   "id": "eef0d6cf-3cd5-489d-b3d2-c6967c0b414a",
   "metadata": {},
   "outputs": [],
   "source": [
    "get_stem: F.udf = F.udf(lambda row: \" \".join([stemmer.stem(word) for word in row.split()]))\n",
    "\n",
    "@F.udf\n",
    "def get_dist(col1: str, col2: str) -> str:\n",
    "    return Levenshtein.ratio(col1, col2)"
   ]
  },
  {
   "cell_type": "code",
   "execution_count": null,
   "id": "8039f4f8-35cf-417d-b7b5-e8ea4f98ad72",
   "metadata": {},
   "outputs": [],
   "source": [
    "df: DataFrame = (spark\n",
    "                 .read\n",
    "                 .csv(\"data/train.csv\", header=True)\n",
    "                 .union(spark\n",
    "                        .read\n",
    "                        .csv(\"data/test.csv\", header=True)\n",
    "                        .withColumn(\"relevance\", F.lit(0)))\n",
    "                 .join(spark.read.csv(\"data/product_descriptions.csv\", header=True), \"product_uid\"))\n",
    "\n",
    "terms: DataFrame = (df\n",
    "                    .withColumn(\"search_term\", get_stem(F.lower(F.col(\"search_term\"))))\n",
    "                    .withColumn(\"product_title\", get_stem(F.lower(F.col(\"product_title\"))))\n",
    "                    .withColumn(\"product_description\", get_stem(F.lower(F.col(\"product_description\")))))\n",
    "\n",
    "dist: DataFrame = (terms\n",
    "                   .withColumn(\"title_dist\", get_dist(F.col(\"search_term\"), F.col(\"product_title\")))\n",
    "                   .withColumn(\"desc_dist\", get_dist(F.col(\"search_term\"), F.col(\"product_description\")))\n",
    "                   .withColumn(\"con\",\n",
    "                               F.concat(F.col(\"product_title\"), F.lit(\".\"), F.col(\"product_description\"), F.lit(\".\"))))"
   ]
  },
  {
   "cell_type": "code",
   "execution_count": null,
   "id": "93cf5716-862a-4170-8093-ca4c813b8ea7",
   "metadata": {},
   "outputs": [],
   "source": [
    "lexems: list = [row.con for row in dist.select(\"con\").collect()]\n",
    "dict: corpora.Dictionary = corpora.Dictionary(list(utils.tokenize(row)) for row in lexems)"
   ]
  },
  {
   "cell_type": "code",
   "execution_count": null,
   "id": "1906516c-72ae-48c1-b8e5-c3a50925c54c",
   "metadata": {},
   "outputs": [],
   "source": [
    "def get_term():\n",
    "    for row in lexems:\n",
    "        yield dict.doc2bow(list(utils.tokenize(row)))\n",
    "\n",
    "tfidf = models.tfidfmodel.TfidfModel(get_term())"
   ]
  },
  {
   "cell_type": "code",
   "execution_count": null,
   "id": "f1f4c464-e601-42ee-9e7c-ec720740de81",
   "metadata": {},
   "outputs": [],
   "source": [
    "def tf(row: str) -> str:\n",
    "    return tfidf[dict.doc2bow(list(utils.tokenize(row)))]\n",
    "\n",
    "@F.udf\n",
    "def similarity(col1: str, col2: str) -> float:\n",
    "    return float(similarities.MatrixSimilarity([tf(col1)], num_features=len(dict))[tf(col2)][0])"
   ]
  },
  {
   "cell_type": "code",
   "execution_count": null,
   "id": "766ec6be-cc45-4fdc-9a0d-a40e00c72ada",
   "metadata": {},
   "outputs": [],
   "source": [
    "simil: DataFrame = (dist\n",
    "                    .withColumn(\"sim_title\", similarity(F.col(\"search_term\"), F.col(\"product_title\")))\n",
    "                    .withColumn(\"sim_desc\", similarity(F.col(\"search_term\"), F.col(\"product_description\"))))"
   ]
  },
  {
   "cell_type": "code",
   "execution_count": null,
   "id": "de5e02e3-3333-499a-9e8c-89924a883f46",
   "metadata": {},
   "outputs": [],
   "source": [
    "tokenizer = nltk.data.load(\"tokenizers/punkt/english.pickle\")\n",
    "sentences = [tokenizer.tokenize(row) for row in lexems]\n",
    "sentences = [y for x in sentences for y in x]\n",
    "w2v = [nltk.tokenize.word_tokenize(row) for row in sentences]"
   ]
  },
  {
   "cell_type": "code",
   "execution_count": null,
   "id": "2b0d434e-b00d-415a-971d-d75e0dc5b173",
   "metadata": {},
   "outputs": [],
   "source": [
    "model = models.word2vec.Word2Vec(w2v, vector_size=128, window=5, min_count=5, workers=4)"
   ]
  },
  {
   "cell_type": "code",
   "execution_count": null,
   "id": "e6d49c98-00d0-4bab-80f3-250a28be8f14",
   "metadata": {},
   "outputs": [],
   "source": [
    "def gv(row: str) -> float:\n",
    "    res = np.zeros([128])\n",
    "    count = 0\n",
    "    for word in nltk.tokenize.word_tokenize(row):\n",
    "        res += model.wv[word]\n",
    "        count += 1\n",
    "    return res / count\n",
    "\n",
    "\n",
    "@F.udf\n",
    "def w2v_similarity(col1: str, col2: str) -> float:\n",
    "    try:\n",
    "        return float(1 - spatial.distance.cosine(gv(col1), gv(col2)))\n",
    "    except:\n",
    "        return float(0)"
   ]
  },
  {
   "cell_type": "code",
   "execution_count": null,
   "id": "43def6f4-f8fa-4340-811f-66d3cad4f5dd",
   "metadata": {},
   "outputs": [],
   "source": [
    "w2c_df: DataFrame = (simil\n",
    "                     .withColumn(\"w2v_title\", w2v_similarity(F.col(\"search_term\"), F.col(\"product_title\")))\n",
    "                     .withColumn(\"w2v_desc\", w2v_similarity(F.col(\"search_term\"), F.col(\"product_description\")))\n",
    "                     .drop(\"search_term\", \"product_title\", \"product_description\", \"con\")\n",
    "                     .coalesce(1).write.mode(\"overwrite\").csv(\"data/features\", header=True))"
   ]
  },
  {
   "cell_type": "code",
   "execution_count": 110,
   "id": "f8a9547a-d294-446b-9159-d53943c43459",
   "metadata": {},
   "outputs": [],
   "source": [
    "features: pd.DataFrame = pd.read_csv('data/features.csv', encoding = \"ISO-8859-1\")\n",
    "df_test: pd.DataFrame = pd.read_csv('data/test.csv', encoding = \"ISO-8859-1\").drop([\"search_term\", \"product_title\", \"product_uid\"], axis=1)\n",
    "df_train: pd.DataFrame = pd.read_csv('data/train.csv', encoding = \"ISO-8859-1\").drop([\"search_term\", \"product_title\", \"product_uid\", \"relevance\"], axis=1)"
   ]
  },
  {
   "cell_type": "code",
   "execution_count": 113,
   "id": "07ca110c-96eb-47d0-8dfd-036dc21e84ff",
   "metadata": {},
   "outputs": [],
   "source": [
    "train = pd.merge(features, df_train, on=\"id\")\n",
    "test = pd.merge(features, df_test, on=\"id\")\n",
    "\n",
    "test_ids = test['id']\n",
    "y_train = train['relevance'].values\n",
    "\n",
    "\n",
    "X_train = train.drop(['id', 'relevance'], axis=1).values\n",
    "X_test = test.drop(['id', 'relevance'], axis = 1).values"
   ]
  },
  {
   "cell_type": "code",
   "execution_count": 120,
   "id": "f7218cc2-1872-4d0a-af8d-d7c198e5f53a",
   "metadata": {},
   "outputs": [],
   "source": [
    "rf = RandomForestRegressor(n_estimators=30, max_depth=6)\n",
    "rf.fit(X_train, y_train)\n",
    "y_pred = rf.predict(X_test)\n",
    "result = pd.DataFrame({\"id\": test_ids, \"relevance\": y_pred})"
   ]
  },
  {
   "cell_type": "code",
   "execution_count": 124,
   "id": "1df56c74-57e9-4de8-940d-f96b142bceca",
   "metadata": {},
   "outputs": [],
   "source": [
    "result.to_csv(\"submission.csv\", index=False)"
   ]
  },
  {
   "cell_type": "code",
   "execution_count": null,
   "id": "1d224c9a-5298-40e8-896e-feafa81f286b",
   "metadata": {},
   "outputs": [],
   "source": []
  }
 ],
 "metadata": {
  "kernelspec": {
   "display_name": "Python 3 (ipykernel)",
   "language": "python",
   "name": "python3"
  },
  "language_info": {
   "codemirror_mode": {
    "name": "ipython",
    "version": 3
   },
   "file_extension": ".py",
   "mimetype": "text/x-python",
   "name": "python",
   "nbconvert_exporter": "python",
   "pygments_lexer": "ipython3",
   "version": "3.7.0"
  }
 },
 "nbformat": 4,
 "nbformat_minor": 5
}
